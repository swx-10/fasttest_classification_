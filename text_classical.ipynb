{
 "cells": [
  {
   "cell_type": "code",
   "execution_count": 1,
   "id": "75706dee",
   "metadata": {},
   "outputs": [],
   "source": [
    "import os\n",
    "import jieba\n",
    "import numpy as np\n",
    "from fasttext import train_supervised\n",
    "from sklearn.metrics import classification_report"
   ]
  },
  {
   "cell_type": "code",
   "execution_count": 2,
   "id": "064407b2",
   "metadata": {},
   "outputs": [],
   "source": [
    "from tqdm import tqdm"
   ]
  },
  {
   "cell_type": "code",
   "execution_count": 18,
   "id": "aee93542",
   "metadata": {},
   "outputs": [],
   "source": [
    "# def data_conver(data_file, file_name):\n",
    "#     \"\"\"__label__体育 text\"\"\"\n",
    "#     with open(data_file, encoding='utf-8') as f:\n",
    "#         datas = f.readlines()\n",
    "#     fh = open('D:/Learning/data_calssical/{}'.format(file_name), 'w', encoding='utf-8')\n",
    "#     for line in tqdm(datas):\n",
    "#         text, label = line.strip().split('\\t')\n",
    "#         text_cut = ' '.join(list(jieba.cut(text, HMM=False)))\n",
    "#         label_ = '__label__' + label\n",
    "#         fh.write(label_+'\\t'+text_cut+'\\n')\n",
    "#     fh.close()\n"
   ]
  },
  {
   "cell_type": "code",
   "execution_count": 16,
   "id": "fc62d432",
   "metadata": {},
   "outputs": [
    {
     "name": "stderr",
     "output_type": "stream",
     "text": [
      "100%|██████████| 746513/746513 [00:40<00:00, 18428.15it/s]\n"
     ]
    }
   ],
   "source": [
    "# #加载数据\n",
    "# datas_file = 'D:/Learning/data_calssical/train_data.txt'\n",
    "# data_conver(datas_file, 'L_data.txt')"
   ]
  },
  {
   "cell_type": "code",
   "execution_count": 19,
   "id": "39933d15",
   "metadata": {},
   "outputs": [
    {
     "name": "stderr",
     "output_type": "stream",
     "text": [
      "100%|██████████| 80000/80000 [00:03<00:00, 20949.93it/s]\n"
     ]
    }
   ],
   "source": [
    "# dev_file = 'D:/Learning/data_calssical/dev.txt'\n",
    "# data_conver(dev_file, 'devs_data.txt')"
   ]
  },
  {
   "cell_type": "code",
   "execution_count": 3,
   "id": "1c9f6c26",
   "metadata": {},
   "outputs": [],
   "source": [
    "dev_data = [line.strip().split('\\t')[1] for line in open('D:/Learning/data_calssical/devs_data.txt', \"r\" ,encoding='utf-8')]\n",
    "dev_label = [line.strip().split('\\t')[0] for line in open('D:/Learning/data_calssical/devs_data.txt', \"r\", encoding='utf-8')]"
   ]
  },
  {
   "cell_type": "code",
   "execution_count": 4,
   "id": "f7c782fa",
   "metadata": {},
   "outputs": [],
   "source": [
    "train_data = 'D:/Learning/data_calssical/L_data.txt'\n",
    "model = train_supervised(input=train_data, dim=300, lr=0.01, wordNgrams=3,\n",
    "                         minCount=1, epoch=50, thread=4, label='__label__')"
   ]
  },
  {
   "cell_type": "code",
   "execution_count": 5,
   "id": "e7b69df4",
   "metadata": {},
   "outputs": [
    {
     "name": "stdout",
     "output_type": "stream",
     "text": [
      "(80000, 0.99825, 0.99825)\n"
     ]
    },
    {
     "name": "stderr",
     "output_type": "stream",
     "text": [
      "100%|██████████| 80000/80000 [00:02<00:00, 32336.70it/s]\n"
     ]
    },
    {
     "name": "stdout",
     "output_type": "stream",
     "text": [
      "              precision    recall  f1-score   support\n",
      "\n",
      " __label__体育       1.00      1.00      1.00     12542\n",
      " __label__娱乐       1.00      1.00      1.00      8860\n",
      " __label__家居       1.00      1.00      1.00      3035\n",
      " __label__彩票       1.00      0.99      1.00       768\n",
      " __label__房产       1.00      1.00      1.00      1877\n",
      " __label__教育       1.00      1.00      1.00      3937\n",
      " __label__时尚       1.00      0.99      1.00      1303\n",
      " __label__时政       1.00      1.00      1.00      6089\n",
      " __label__星座       1.00      0.99      0.99       294\n",
      " __label__游戏       1.00      0.99      0.99      2347\n",
      " __label__社会       1.00      1.00      1.00      4776\n",
      " __label__科技       1.00      1.00      1.00     15608\n",
      " __label__股票       1.00      1.00      1.00     14990\n",
      " __label__财经       1.00      1.00      1.00      3574\n",
      "\n",
      "    accuracy                           1.00     80000\n",
      "   macro avg       1.00      1.00      1.00     80000\n",
      "weighted avg       1.00      1.00      1.00     80000\n",
      "\n"
     ]
    }
   ],
   "source": [
    "print(model.test(\"D:/Learning/data_calssical/devs_data.txt\"))\n",
    "\n",
    "predict_label = []\n",
    "for line in tqdm(dev_data):\n",
    "    result, proba = model.predict(line)\n",
    "    predict_label.append(result[0])\n",
    "print(classification_report(y_pred=predict_label, y_true=dev_label))"
   ]
  },
  {
   "cell_type": "code",
   "execution_count": 6,
   "id": "568c0180",
   "metadata": {},
   "outputs": [
    {
     "name": "stderr",
     "output_type": "stream",
     "text": [
      "  0%|          | 0/83599 [00:00<?, ?it/s]Building prefix dict from the default dictionary ...\n",
      "Loading model from cache C:\\Users\\80665\\AppData\\Local\\Temp\\jieba.cache\n",
      "Loading model cost 0.547 seconds.\n",
      "Prefix dict has been built successfully.\n",
      "100%|██████████| 83599/83599 [00:08<00:00, 9957.06it/s] \n"
     ]
    }
   ],
   "source": [
    "text_file = 'D:/Learning/data_calssical/test.txt'\n",
    "with open(text_file, encoding='utf-8') as f:\n",
    "    text_datas = f.readlines()\n",
    "\n",
    "test = open('D:/Learning/fasttext_classical/result.txt', 'w', encoding='utf-8')\n",
    "for text_data in tqdm(text_datas):\n",
    "    line = text_data.strip()\n",
    "    text = ' '.join(list(jieba.cut(line, HMM=False)))\n",
    "    result, proba = model.predict(text)\n",
    "    test.write(result[0][9:]+'\\n')\n",
    "test.close()"
   ]
  }
 ],
 "metadata": {
  "kernelspec": {
   "display_name": "Python 3 (ipykernel)",
   "language": "python",
   "name": "python3"
  },
  "language_info": {
   "codemirror_mode": {
    "name": "ipython",
    "version": 3
   },
   "file_extension": ".py",
   "mimetype": "text/x-python",
   "name": "python",
   "nbconvert_exporter": "python",
   "pygments_lexer": "ipython3",
   "version": "3.6.13"
  }
 },
 "nbformat": 4,
 "nbformat_minor": 5
}
